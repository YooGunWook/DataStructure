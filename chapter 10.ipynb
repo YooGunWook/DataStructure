{
 "cells": [
  {
   "cell_type": "markdown",
   "metadata": {},
   "source": [
    "# 검색\n",
    "\n",
    "검색 알고리즘은 순차 검색과 이진 검색이 있다. 순차 검색은 배열이 정렬되어 있지 않거나, 연결 리스트와 같이 입력이 동적으로 할당되는 경우에 사용된다. 이진 검색은 배열이 정렬되어 있는 경우 최선의 선택이다. 해시 테이블은 보조 메모리 공간을 사용하지만, 키를 이용하면 O(1)에 원하는 값을 검색할 수 있다. "
   ]
  },
  {
   "cell_type": "markdown",
   "metadata": {},
   "source": [
    "## 10.1 정렬되지 않은 배열\n",
    "\n",
    "### 10.1.1 순차 검색\n",
    "순차 검색은 최선의 경우 시간복잡도는 O(1)이고, 평균은 O(n/2) 최악은 o(n)이다. 리스트 안에 검색하려는 항목이 없으면 최악/최선/평균 모두 O(n)이다. \n"
   ]
  },
  {
   "cell_type": "code",
   "execution_count": 3,
   "metadata": {},
   "outputs": [
    {
     "name": "stdout",
     "output_type": "stream",
     "text": [
      "테스트 통과\n"
     ]
    }
   ],
   "source": [
    "# 정렬되지 않은 리스트 검색\n",
    "def sequential_search(seq,n):\n",
    "    for item in seq:\n",
    "        if item == n:\n",
    "            return True\n",
    "    return False\n",
    "\n",
    "def test_sequential_search():\n",
    "    seq = [1,5,6,8,3]\n",
    "    n1 = 5\n",
    "    n2 = 7\n",
    "    assert(sequential_search(seq,n1) is True)\n",
    "    assert(sequential_search(seq,n2) is False)\n",
    "    print('테스트 통과')\n",
    "\n",
    "if __name__ == '__main__':\n",
    "    test_sequential_search()\n",
    "    "
   ]
  },
  {
   "cell_type": "markdown",
   "metadata": {},
   "source": [
    "리스트가 정렬되어 있다면, 리스트 안에 검색하려는 항목이 없는 경우에도 검색하려는 항목이 있을 때와 같은 실행 시간을 가질 수 있다. "
   ]
  },
  {
   "cell_type": "code",
   "execution_count": 5,
   "metadata": {},
   "outputs": [
    {
     "name": "stdout",
     "output_type": "stream",
     "text": [
      "테스트 통과\n"
     ]
    }
   ],
   "source": [
    "# 정렬된 리스트 검색\n",
    "def ordered_sequential_search(seq, n):\n",
    "    item = 0\n",
    "    for item in seq:\n",
    "        if item > n:\n",
    "            return False\n",
    "        if item == n:\n",
    "            return True\n",
    "    return False\n",
    "\n",
    "def test_ordered_sequential_search():\n",
    "    seq = [1,2,4,5,6,8,10]\n",
    "    n1 = 10\n",
    "    n2 = 7\n",
    "    assert(ordered_sequential_search(seq,n1) is True)\n",
    "    assert(ordered_sequential_search(seq,n2) is False)\n",
    "    print('테스트 통과')\n",
    "\n",
    "if __name__ == '__main__':\n",
    "    test_ordered_sequential_search()"
   ]
  },
  {
   "cell_type": "markdown",
   "metadata": {},
   "source": [
    "### 10.1.2 빠른 선택과 순서통계량\n",
    "퀵 정렬 알고리즘을 약간 수정해서 리스트에서 k번째로 작은 항목을 찾는다. 이러한 숫자 k를 k번째 순서통계량(최솟값, 최댓값, 중앙값 등)이라 부른다. 최악의 경우 O(n)의 시간복잡도를 가진다. "
   ]
  },
  {
   "cell_type": "code",
   "execution_count": 11,
   "metadata": {},
   "outputs": [
    {
     "name": "stdout",
     "output_type": "stream",
     "text": [
      "[1, 2, 3, 4, 5, 6, 7, 9, 10, 11]\n",
      "5\n",
      "5\n",
      "5.5\n"
     ]
    }
   ],
   "source": [
    "import random\n",
    "\n",
    "def quick_select_cache(seq, k):\n",
    "    len_seq = len(seq)\n",
    "    if len_seq < 2:\n",
    "        return seq[0]\n",
    "\n",
    "# 피벗을 무작위로 선택할 수 있다.\n",
    "# pivot = random.choice(seq)\n",
    "    ipivot = len_seq // 2\n",
    "    pivot = seq[ipivot]\n",
    "\n",
    "    smallerList = [x for i, x in enumerate(seq) if x <= pivot and i != ipivot]\n",
    "    largerList = [x for i, x in enumerate(seq) if x > pivot and i != ipivot]\n",
    "\n",
    "    m = len(smallerList)\n",
    "    if k == m:\n",
    "        return pivot\n",
    "    elif k < m:\n",
    "        return quick_select_cache(smallerList, k)\n",
    "    else: \n",
    "        return quick_select_cache(largerList, k-m-1)\n",
    "    \n",
    "def swap(seq,x,y):\n",
    "    seq[x], seq[y] = seq[y], seq[x]\n",
    "    \n",
    "def quick_select(seq, k, left = None, right = None):\n",
    "    left = left or 0\n",
    "    right = right or len(seq) - 1\n",
    "    # ipivot = random.randint(left,right)\n",
    "    ipivot = len(seq) // 2\n",
    "    pivot = seq[ipivot]\n",
    "    \n",
    "    # 피벗을 정렬 범위 밖으로 이동한다. \n",
    "    swap(seq, ipivot,right)\n",
    "    swapIndex, i = left, left\n",
    "    \n",
    "    while i < right:\n",
    "        if pivot < seq[i]:\n",
    "            swap(seq, i, swapIndex)\n",
    "            swapIndex += 1\n",
    "        i += 1\n",
    "        \n",
    "    # 피벗 위치를 확정한다.    \n",
    "    swap(seq, right, swapIndex)\n",
    "    \n",
    "    # 피벗 위치 확인\n",
    "    rank = len(seq) - swapIndex\n",
    "    if k == rank:\n",
    "        return seq[swapIndex]\n",
    "    elif k < rank:\n",
    "        return quick_select(seq, k, swapIndex+1, right)\n",
    "    else:\n",
    "        return quick_select(seq,k,left,swapIndex-1)\n",
    "\n",
    "if __name__ == '__main__':\n",
    "    seq = [3,7,2,1,4,6,5,10,9,11]\n",
    "    k = len(seq) // 2\n",
    "    print(sorted(seq))\n",
    "    print(quick_select_cache(seq, k - 1))\n",
    "    print(quick_select(seq,k))\n",
    "    # 중앙값 출력을 위해 넘파이 사용\n",
    "    import numpy as np\n",
    "    print(np.median(seq))"
   ]
  },
  {
   "cell_type": "markdown",
   "metadata": {},
   "source": [
    "일반적으로 배열의 중앙에 있는 값보다 '큰'값으로 중앙값을 정의할 수 있다. 이러한 정의는 가장 가까운 이웃 또는 최단 경로를 찾는 등의 문제를 풀 때 중요하다. "
   ]
  },
  {
   "cell_type": "markdown",
   "metadata": {},
   "source": [
    "## 10.2 정렬된 배열\n",
    "### 10.2.1 이진 검색\n",
    "\n",
    "이진 검색은 정렬된 배열 내에서 지정된 입력값의 위치(키)를 찾는다. 이진 검색은 알고리즘의 각 단계에서 입력값과 배열 중간 요소를 비교한다. 입력값과 중간 요소가 일치하면 배열의 위치가 반환된다. 입력값이 중간 요소보다 작으면, 중간 요소의 왼쪽 하위 배열\n",
    "에서 검색 과정을 반복한다. 반대의 경우엔 중간 요소의 오른쪽 하위 배열에서 검색 과정을 반복한다. 시간복잡도는  O(log n)이다."
   ]
  },
  {
   "cell_type": "code",
   "execution_count": 13,
   "metadata": {},
   "outputs": [
    {
     "name": "stdout",
     "output_type": "stream",
     "text": [
      "테스트 통과\n"
     ]
    }
   ],
   "source": [
    "# 재귀 함수\n",
    "def binary_search_rec(seq, target, low, high):\n",
    "    if low > high:\n",
    "        return None\n",
    "    mid = (low + high) // 2\n",
    "    if target == seq[mid]:\n",
    "        return mid\n",
    "    elif target < seq[mid]:\n",
    "        return binary_search_rec(seq,target,low,mid - 1)\n",
    "    else: \n",
    "        return binary_search_rec(seq,target,mid+1,high)\n",
    "    \n",
    "# 반복문\n",
    "def binary_search_iter(seq, target):\n",
    "    high, low = len(seq), 0\n",
    "    while low < high:\n",
    "        mid = (high + low) // 2\n",
    "        if target == seq[mid]:\n",
    "            return mid\n",
    "        elif target < seq[mid]:\n",
    "            high = mid\n",
    "        else:\n",
    "            low = mid + 1\n",
    "    return None\n",
    "\n",
    "def test_binary_search():\n",
    "    seq = [1,2,5,6,7,10,12,12,14,15]\n",
    "    target = 6\n",
    "    assert(binary_search_iter(seq, target) == 3)\n",
    "    assert(binary_search_rec(seq,target,0,len(seq)) == 3)\n",
    "    print('테스트 통과')\n",
    "    \n",
    "if __name__ == '__main__':\n",
    "    test_binary_search()"
   ]
  },
  {
   "cell_type": "markdown",
   "metadata": {},
   "source": [
    "### 10.2.2 bisect 모듈\n",
    "\n",
    "예제에서 bisect() 함수는 임력값 5의 리스트 위치(인덱스+1)을 반환한다.그 밖에도 bisect_right()와 bisect_left() 함수가 있다. "
   ]
  },
  {
   "cell_type": "code",
   "execution_count": 15,
   "metadata": {},
   "outputs": [
    {
     "name": "stdout",
     "output_type": "stream",
     "text": [
      "4\n",
      "0\n",
      "1\n",
      "4\n",
      "0\n"
     ]
    }
   ],
   "source": [
    "from bisect import bisect\n",
    "l = [0,3,4,5]\n",
    "print(bisect(l,5))\n",
    "# 빈 리스트 혹은 값이 없는 예외의 경우\n",
    "print(bisect(l,-1))\n",
    "print(bisect(l,1))\n",
    "print(bisect(l,7))\n",
    "print(bisect([],1))"
   ]
  },
  {
   "cell_type": "markdown",
   "metadata": {},
   "source": [
    "## 10.3 연습문제"
   ]
  },
  {
   "cell_type": "markdown",
   "metadata": {},
   "source": [
    "### 10.3.1 행렬 검색"
   ]
  },
  {
   "cell_type": "code",
   "execution_count": 16,
   "metadata": {},
   "outputs": [
    {
     "name": "stdout",
     "output_type": "stream",
     "text": [
      "테스트 통과\n"
     ]
    }
   ],
   "source": [
    "def find_elem_matrix_bool(m1, value):\n",
    "    found = False\n",
    "    row = 0\n",
    "    col = len(m1[0]) - 1\n",
    "    while row < len(m1) and col >= 0:\n",
    "        if m1[row][col] == value:\n",
    "            found = True\n",
    "            break\n",
    "        elif m1[row][col] > value:\n",
    "            col -= 1\n",
    "        else:\n",
    "            row += 1\n",
    "    return found\n",
    "\n",
    "def test_find_elem_matrix_bool():\n",
    "    m1 = [[1,2,8,9],[2,4,9,12],[4,7,10,13],[6,8,11,15]]\n",
    "    assert(find_elem_matrix_bool(m1,8) is True)\n",
    "    assert(find_elem_matrix_bool(m1,3) is False)\n",
    "    m2 = [[0]]\n",
    "    assert(find_elem_matrix_bool(m2,0) is True)\n",
    "    print('테스트 통과')\n",
    "\n",
    "if __name__ == '__main__':\n",
    "    test_find_elem_matrix_bool()"
   ]
  },
  {
   "cell_type": "code",
   "execution_count": 27,
   "metadata": {},
   "outputs": [
    {
     "name": "stdout",
     "output_type": "stream",
     "text": [
      "테스트 통과\n"
     ]
    }
   ],
   "source": [
    "def searching_in_a_matrix(m1, value):\n",
    "    rows = len(m1)\n",
    "    cols = len(m1[0])\n",
    "    lo = 0\n",
    "    hi = rows*cols\n",
    "    while lo < hi:\n",
    "        mid = (lo + hi) // 2\n",
    "        row = mid // cols\n",
    "        col = mid % cols\n",
    "        v = m1[row][col]\n",
    "        if v == value:\n",
    "            return True\n",
    "        elif v > value:\n",
    "            hi = mid\n",
    "        else:\n",
    "            lo = mid + 1\n",
    "    return False\n",
    "\n",
    "def test_seraching_in_a_matrix():\n",
    "    a = [[1,3,5],[7,9,11],[13,15,17]]\n",
    "    import numpy as np\n",
    "    b = np.array([(1,2),(3,4)])\n",
    "    assert(searching_in_a_matrix(a,13) is True)\n",
    "    assert(searching_in_a_matrix(a,14) is False)\n",
    "    assert(searching_in_a_matrix(b,3) is True)\n",
    "    assert(searching_in_a_matrix(b,5) is False)\n",
    "    print('테스트 통과')\n",
    "\n",
    "if __name__ == '__main__':\n",
    "    test_seraching_in_a_matrix()"
   ]
  },
  {
   "cell_type": "markdown",
   "metadata": {},
   "source": [
    "### 10.3.2 단봉형 배열\n",
    "\n",
    "배열 요소들의 산포도를 그렸을 때 값이 증가했다가 다시 감소하는 곡선인 경우 이 배열을 단봉형이라고 한다. "
   ]
  },
  {
   "cell_type": "code",
   "execution_count": 31,
   "metadata": {},
   "outputs": [
    {
     "name": "stdout",
     "output_type": "stream",
     "text": [
      "테스트 통과\n"
     ]
    }
   ],
   "source": [
    "def find_max_unimodal_array(A):\n",
    "    if len(A) <= 2:\n",
    "        return None\n",
    "    left = 0\n",
    "    right = len(A) - 1\n",
    "    while right > left + 1 :\n",
    "        mid = (left + right) // 2\n",
    "        if A[mid] > A[mid - 1] and A[mid] > A[mid+1]:\n",
    "            return A[mid]\n",
    "        elif A[mid] > A[mid - 1] and A[mid] < A[mid + 1]:\n",
    "            left = mid\n",
    "        else:\n",
    "            right = mid\n",
    "    return None\n",
    "\n",
    "def test_find_max_unimodal_array():\n",
    "    seq = [1,2,5,6,7,10,12,9,8,7,6]\n",
    "    assert(find_max_unimodal_array(seq) == max(seq))\n",
    "    print('테스트 통과')\n",
    "    \n",
    "if __name__ == '__main__':\n",
    "    test_find_max_unimodal_array()"
   ]
  },
  {
   "cell_type": "markdown",
   "metadata": {},
   "source": [
    "### 10.3.3 제곱근 계산하기"
   ]
  },
  {
   "cell_type": "code",
   "execution_count": 34,
   "metadata": {},
   "outputs": [
    {
     "name": "stdout",
     "output_type": "stream",
     "text": [
      "1.4142135623730951\n",
      "1.4140625\n",
      "3.0\n",
      "3.0\n"
     ]
    }
   ],
   "source": [
    "def find_sqrt_bin_search(n, error = 0.001):\n",
    "    lower = n < 1 and n or 1\n",
    "    upper = n < 1 and 1 or n\n",
    "    mid = lower + (upper - lower) / 2.0\n",
    "    square = mid * mid\n",
    "    while abs(square - n) > error:\n",
    "        if square < n:\n",
    "            lower = mid\n",
    "        else:\n",
    "            upper = mid\n",
    "        mid = lower + (upper - lower) / 2.0\n",
    "        square = mid * mid\n",
    "    return mid\n",
    "\n",
    "if __name__ == '__main__':\n",
    "    a = 2\n",
    "    b = 9\n",
    "    import math\n",
    "    print(math.sqrt(a))\n",
    "    print(find_sqrt_bin_search(a))\n",
    "    print(math.sqrt(b))\n",
    "    print(find_sqrt_bin_search(b))"
   ]
  },
  {
   "cell_type": "markdown",
   "metadata": {},
   "source": [
    "### 10.3.4 빈도 계산하기"
   ]
  },
  {
   "cell_type": "code",
   "execution_count": 37,
   "metadata": {},
   "outputs": [
    {
     "name": "stdout",
     "output_type": "stream",
     "text": [
      "테스트 통과\n"
     ]
    }
   ],
   "source": [
    "def find_time_occurrence_list(seq,k):\n",
    "    index_some_k = binary_search_iter(seq,k)\n",
    "    count = 1\n",
    "    sizet = len(seq)\n",
    "    for i in range(index_some_k + 1, sizet):\n",
    "        if seq[i] == k:\n",
    "            count += 1\n",
    "        else:\n",
    "            break\n",
    "    for i in range(index_some_k-1,-1,-1):\n",
    "        if seq[i] == k:\n",
    "            count += 1\n",
    "        else:\n",
    "            break\n",
    "    return count\n",
    "\n",
    "def test_find_time_occurrence_list():\n",
    "    seq = [1,2,2,2,2,2,2,5,6,6,7,8,9]\n",
    "    k = 2\n",
    "    assert(find_time_occurrence_list(seq,k) == 6)\n",
    "    print('테스트 통과')\n",
    "\n",
    "if __name__ == '__main__':\n",
    "    test_find_time_occurrence_list()"
   ]
  },
  {
   "cell_type": "markdown",
   "metadata": {},
   "source": [
    "### 10.3.5 교집합 구하기"
   ]
  },
  {
   "cell_type": "code",
   "execution_count": 44,
   "metadata": {},
   "outputs": [
    {
     "name": "stdout",
     "output_type": "stream",
     "text": [
      "테스트 통과\n"
     ]
    }
   ],
   "source": [
    "# python set 사용\n",
    "def intersection_two_arrays_sets(seq1,seq2):\n",
    "    set1 = set(seq1)\n",
    "    set2 = set(seq2)\n",
    "    return set1.intersection(set2)\n",
    "\n",
    "# 병합 정렬 사용\n",
    "def intersection_two_arrays_ms(seq1,seq2):\n",
    "    res = []\n",
    "    while seq1 and seq2:\n",
    "        if seq1[-1] == seq2[-1]:\n",
    "            res.append(seq1.pop())\n",
    "            seq2.pop()\n",
    "        elif seq1[-1] > seq2[-1]:\n",
    "            seq1.pop()\n",
    "        else:\n",
    "            seq2.pop()\n",
    "    res.reverse()\n",
    "    return res\n",
    "\n",
    "# 이진 검색 사용\n",
    "def intersection_two_arrays_bs(seq1, seq2):\n",
    "    if len(seq1) > len(seq2):\n",
    "        seq, key = seq1, seq2\n",
    "    else:\n",
    "        seq, key = seq2, seq1\n",
    "    intersec = []\n",
    "    for item in key:\n",
    "        if binary_search_iter(seq,item):\n",
    "            intersec.append(item)\n",
    "    return intersec\n",
    "\n",
    "def test_intersection_two_arrays():\n",
    "    seq1 = [1,2,3,5,7,8]\n",
    "    seq2 = [3,5,6]\n",
    "    assert(set(intersection_two_arrays_sets(seq1,seq2)) == set([3,5]))\n",
    "    assert(intersection_two_arrays_bs(seq1,seq2) == [3,5])\n",
    "    assert(intersection_two_arrays_ms(seq1,seq2) == [3,5])\n",
    "    print('테스트 통과')\n",
    "\n",
    "if __name__ == '__main__':\n",
    "    test_intersection_two_arrays()"
   ]
  },
  {
   "cell_type": "code",
   "execution_count": null,
   "metadata": {},
   "outputs": [],
   "source": []
  }
 ],
 "metadata": {
  "kernelspec": {
   "display_name": "Python 3",
   "language": "python",
   "name": "python3"
  },
  "language_info": {
   "codemirror_mode": {
    "name": "ipython",
    "version": 3
   },
   "file_extension": ".py",
   "mimetype": "text/x-python",
   "name": "python",
   "nbconvert_exporter": "python",
   "pygments_lexer": "ipython3",
   "version": "3.7.4"
  }
 },
 "nbformat": 4,
 "nbformat_minor": 2
}
