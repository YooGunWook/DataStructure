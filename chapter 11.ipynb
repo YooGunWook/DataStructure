{
 "cells": [
  {
   "cell_type": "markdown",
   "metadata": {},
   "source": [
    "# 동적 계획법\n",
    "\n",
    "동적 계획법은 복잡한 문제를 재귀를 통해 간단한 하위 문제로 분류하여 단순화하여 해결하는 방법이다. 문제가 최적 부분 구조와 중복되는 부분 문제를 가지고 있다면, 동적 계획법으로 해결할 수 있다. \n",
    "\n",
    "최적 부분 구조는 답을 구하기 위해서 했던 계산을 반복해야 하는 문제의 구조를 말한다. 동적 계획법을 사용하려면 먼저 최적 부분 구조가 있는지 확인해야 한다. 동적 계획법은 부분 문제를 풀고 결과를 저장한 후, 다음 부분 문제(중복되는 부분 문제)를 푸는 과정에서 저당된 결과를 사용한다 "
   ]
  },
  {
   "cell_type": "markdown",
   "metadata": {},
   "source": [
    "## 11.1 메모이제이션\n",
    "메모이제이션은 프로그램이 동일한 계산을 반복할 때, 이전에 계산한 값을 메모리에 저장하여 동일한 계산의 반복 수행을 제거하여 프로그램의 실행 속도를 빠르게 하는 기법읻가. \n",
    "\n",
    "### 11.1.1 피보나치 수열"
   ]
  },
  {
   "cell_type": "code",
   "execution_count": 7,
   "metadata": {},
   "outputs": [],
   "source": [
    "# 시간 측정 함수\n",
    "from functools import wraps\n",
    "import time\n",
    "\n",
    "def benchmark(method):\n",
    "    @wraps(method)\n",
    "    def timed(*args, **kw):\n",
    "        ts = time.time()\n",
    "        result = method(*args, **kw)\n",
    "        te = time.time()\n",
    "        print('{0}:{1:0.2f} ms'.format(method.__name__,((te-ts)*1000)))\n",
    "        return result\n",
    "    return timed"
   ]
  },
  {
   "cell_type": "code",
   "execution_count": 8,
   "metadata": {},
   "outputs": [
    {
     "name": "stdout",
     "output_type": "stream",
     "text": [
      "14930352\n",
      "test_fib:3208.47 ms\n",
      "14930352\n",
      "test_fib2:0.09 ms\n",
      "14930352\n",
      "test_fib3:0.03 ms\n"
     ]
    }
   ],
   "source": [
    "from functools import wraps\n",
    "\n",
    "def memo(func):\n",
    "    cache = {}\n",
    "    \n",
    "    @wraps(func)\n",
    "    def wrap(*args):\n",
    "        if args not in cache:\n",
    "            cache[args] = func(*args)\n",
    "        return cache[args]\n",
    "    return wrap\n",
    "\n",
    "def fib(n):\n",
    "    if n < 2:\n",
    "        return 1\n",
    "    else:\n",
    "        return fib(n-1) + fib(n-2)\n",
    "\n",
    "@memo\n",
    "def fib2(n):\n",
    "    if n < 2:\n",
    "        return 1\n",
    "    else:\n",
    "        return fib2(n-1) + fib2(n-2)\n",
    "\n",
    "def fib3(m,n):\n",
    "    if m[n] == 0:\n",
    "        m[n] = fib3(m,n-1) + fib3(m,n-2)\n",
    "    return m[n]\n",
    "\n",
    "@benchmark\n",
    "def test_fib(n):\n",
    "    print(fib(n))\n",
    "\n",
    "@benchmark\n",
    "def test_fib2(n):\n",
    "    print(fib2(n))\n",
    "\n",
    "@benchmark\n",
    "def test_fib3(n):\n",
    "    m = [0] * (n+1)\n",
    "    m[0], m[1] = 1,1\n",
    "    print(fib3(m,n))\n",
    "\n",
    "if __name__ == '__main__':\n",
    "    n = 35\n",
    "    test_fib(n)\n",
    "    test_fib2(n)\n",
    "    test_fib3(n)\n",
    "    \n",
    "    \n"
   ]
  },
  {
   "cell_type": "markdown",
   "metadata": {},
   "source": [
    "## 11.2 연습문제\n",
    "### 11.2.1 최장 증가 부분멸\n",
    "증가하는 순서대로(오름차순) 숫자를 고른 부분열의 길이가 최대가 되게 하면 된다. "
   ]
  },
  {
   "cell_type": "code",
   "execution_count": 10,
   "metadata": {},
   "outputs": [
    {
     "name": "stdout",
     "output_type": "stream",
     "text": [
      "[94, 8, 78, 22, 38, 79, 93, 8, 84, 39]\n",
      "5\n",
      "test_naive_longest_inc_subseq:0.27 ms\n",
      "5\n",
      "test_dp_longest_inc_subseq:0.03 ms\n",
      "5\n",
      "test_memoized_longest_inc_subseq:0.05 ms\n",
      "5\n",
      "test_longest_inc_bisec:0.03 ms\n"
     ]
    }
   ],
   "source": [
    "from bisect import bisect\n",
    "from itertools import combinations\n",
    "from functools import wraps\n",
    "\n",
    "# 가장 단순한 방식\n",
    "def naive_longest_inc_subseq(seq):\n",
    "    for length in range(len(seq), 0, -1):\n",
    "        for sub in combinations(seq, length):\n",
    "            if list(sub) == sorted(sub):\n",
    "                return len(sub)\n",
    "\n",
    "# 동적 계획법\n",
    "def dp_longest_inc_subseq(seq):\n",
    "    L = [1] * len(seq)\n",
    "    res = []\n",
    "    for cur, val in enumerate(seq):\n",
    "        for pre in range(cur):\n",
    "            if seq[pre] <= val:\n",
    "                L[cur] = max(L[cur], 1+ L[pre])\n",
    "    return max(L)\n",
    "\n",
    "def memo(func):\n",
    "    cache = {}\n",
    "    \n",
    "    @wraps(func)\n",
    "    def wrap(*args):\n",
    "        if args not in cache:\n",
    "            cache[args] = func(*args)\n",
    "        return cache[args]\n",
    "    return wrap\n",
    "\n",
    "# 메모이제이션\n",
    "def memoized_longest_inc_subseq(seq):\n",
    "    @memo\n",
    "    def L(cur):\n",
    "        res = 1\n",
    "        for pre in range(cur):\n",
    "            if seq[pre] <= seq[cur]:\n",
    "                res = max(res,1+L(pre))\n",
    "        return res\n",
    "    return max(L(i) for i in range(len(seq)))\n",
    "\n",
    "# 이진 검색\n",
    "def longest_inc_bisec(seq):\n",
    "    end = []\n",
    "    for val in seq:\n",
    "        idx = bisect(end, val)\n",
    "        if idx == len(end):\n",
    "            end.append(val)\n",
    "        else:\n",
    "            end[idx] = val\n",
    "    return len(end)\n",
    "\n",
    "@benchmark\n",
    "def test_naive_longest_inc_subseq():\n",
    "    print(naive_longest_inc_subseq(s1))\n",
    "\n",
    "@benchmark\n",
    "def test_dp_longest_inc_subseq():\n",
    "    print(dp_longest_inc_subseq(s1))\n",
    "\n",
    "@benchmark\n",
    "def test_memoized_longest_inc_subseq():\n",
    "    print(memoized_longest_inc_subseq(s1))\n",
    "\n",
    "@benchmark\n",
    "def test_longest_inc_bisec():\n",
    "    print(longest_inc_bisec(s1))\n",
    "\n",
    "if __name__ == '__main__':\n",
    "    s1 = [94,8,78,22,38,79,93,8,84,39]\n",
    "    print(s1)\n",
    "    test_naive_longest_inc_subseq()\n",
    "    test_dp_longest_inc_subseq()\n",
    "    test_memoized_longest_inc_subseq()\n",
    "    test_longest_inc_bisec()\n",
    "    "
   ]
  },
  {
   "cell_type": "code",
   "execution_count": null,
   "metadata": {},
   "outputs": [],
   "source": []
  }
 ],
 "metadata": {
  "kernelspec": {
   "display_name": "Python 3",
   "language": "python",
   "name": "python3"
  },
  "language_info": {
   "codemirror_mode": {
    "name": "ipython",
    "version": 3
   },
   "file_extension": ".py",
   "mimetype": "text/x-python",
   "name": "python",
   "nbconvert_exporter": "python",
   "pygments_lexer": "ipython3",
   "version": "3.7.4"
  }
 },
 "nbformat": 4,
 "nbformat_minor": 2
}
