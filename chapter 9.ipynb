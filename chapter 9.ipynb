{
 "cells": [
  {
   "cell_type": "markdown",
   "metadata": {},
   "source": [
    "제자리 정렬은 정렬한 항목의 수에 비해 아주 작은 저장 공간을 더 사용하는 정렬 알고리즘이다. 삽입 정렬은 주어진 원소들을 옮긴 뒤 적절한 위치에 원소를 삽입하는 연산을 반복하는데 이 과정에서 항목을 담는 공간 외에 추가로 사용될 수 있는 공간은 옮겨지는 항목이 저장되는 공간과 반복문 변수 정도에 불과하다.\n",
    "\n",
    "안정적 정렬은 데이터 요소의 상대적인 순서를 보존한다. 데이터의 두 항목의 크기가 같을 때, 정렬 전의 위치 상태를 똑같이 유지한다. 모든 비교 정렬 문제에서 키는 정렬 순서를 결정한 값을 뜻한다. 비교 정렬 알고리즘은 최악의 경우 시간복잡도가 O(n log n)보다 좋지 않다. "
   ]
  },
  {
   "cell_type": "markdown",
   "metadata": {},
   "source": [
    "# 9.1 2차 정렬\n",
    "\n",
    "## 9.1.1 거품 정렬\n",
    "거품 정렬은 인접한 두 항목을 비교하여 정렳하는 방식이다. 시간복잡도는 O(n^2)이지만 코드가 단순하다. "
   ]
  },
  {
   "cell_type": "code",
   "execution_count": 3,
   "metadata": {},
   "outputs": [
    {
     "name": "stdout",
     "output_type": "stream",
     "text": [
      "[4, 2, 1, 5, 2, 6, 7, 10, 8, 13]\n",
      "[2, 1, 4, 2, 5, 6, 7, 8, 10, 13]\n",
      "[1, 2, 2, 4, 5, 6, 7, 8, 10, 13]\n",
      "[1, 2, 2, 4, 5, 6, 7, 8, 10, 13]\n",
      "[1, 2, 2, 4, 5, 6, 7, 8, 10, 13]\n",
      "[1, 2, 2, 4, 5, 6, 7, 8, 10, 13]\n",
      "[1, 2, 2, 4, 5, 6, 7, 8, 10, 13]\n",
      "[1, 2, 2, 4, 5, 6, 7, 8, 10, 13]\n",
      "[1, 2, 2, 4, 5, 6, 7, 8, 10, 13]\n"
     ]
    },
    {
     "data": {
      "text/plain": [
       "True"
      ]
     },
     "execution_count": 3,
     "metadata": {},
     "output_type": "execute_result"
    }
   ],
   "source": [
    "def bublle_sort(seq):\n",
    "    length = len(seq) - 1\n",
    "    for num in range(length,0,-1):\n",
    "        for i in range(num):\n",
    "            if seq[i] > seq[i+1]:\n",
    "                seq[i], seq[i+1] = seq[i+1], seq[i]\n",
    "        print(seq)\n",
    "    return seq\n",
    "\n",
    "seq = [4,5,2,1,6,2,7,10,13,8]\n",
    "result = bublle_sort(seq)\n",
    "seq.sort()\n",
    "result == seq"
   ]
  },
  {
   "cell_type": "markdown",
   "metadata": {},
   "source": [
    "## 9.1.2 선택 정렬\n",
    "선택 정렬은 먼저 리스트에서 가장 작거나 큰 항목을 찾아서 첫 번째 항목과 위치를 바꾼다. 그리고 나서 그다음 항목을 찾아서 두 번째 항목과 위치를 바꾼다. 이런식으로 리스트 끝에 도달할 때까지 반복한다. 리스트가 정렬되어 있어도 시간복잡도는 O(n^2)이다. "
   ]
  },
  {
   "cell_type": "code",
   "execution_count": 5,
   "metadata": {},
   "outputs": [
    {
     "name": "stdout",
     "output_type": "stream",
     "text": [
      "[1, 5, 2, 4, 6, 2, 7, 10, 13, 8]\n",
      "[1, 2, 5, 4, 6, 2, 7, 10, 13, 8]\n",
      "[1, 2, 2, 4, 6, 5, 7, 10, 13, 8]\n",
      "[1, 2, 2, 4, 6, 5, 7, 10, 13, 8]\n",
      "[1, 2, 2, 4, 5, 6, 7, 10, 13, 8]\n",
      "[1, 2, 2, 4, 5, 6, 7, 10, 13, 8]\n",
      "[1, 2, 2, 4, 5, 6, 7, 10, 13, 8]\n",
      "[1, 2, 2, 4, 5, 6, 7, 8, 13, 10]\n",
      "[1, 2, 2, 4, 5, 6, 7, 8, 10, 13]\n"
     ]
    },
    {
     "data": {
      "text/plain": [
       "True"
      ]
     },
     "execution_count": 5,
     "metadata": {},
     "output_type": "execute_result"
    }
   ],
   "source": [
    "def selection_sort(seq):\n",
    "    length = len(seq)\n",
    "    for i in range(length-1):\n",
    "        min_j = i\n",
    "        for j in range(i+1, length):\n",
    "            if seq[min_j] > seq[j]:\n",
    "                min_j = j\n",
    "        seq[i], seq[min_j] = seq[min_j], seq[i]\n",
    "        print(seq)\n",
    "    return seq\n",
    "\n",
    "seq = [4,5,2,1,6,2,7,10,13,8]\n",
    "result = selection_sort(seq)\n",
    "seq.sort()\n",
    "result == seq"
   ]
  },
  {
   "cell_type": "markdown",
   "metadata": {},
   "source": [
    "## 9.1.3 삽입 정렬\n",
    "삽입 정렬은 최선의 경우 시간 복잡도는 O(n)이고 평균과 최악의 경우 O(n^2)인 간단한 정렬 알고리즘이다. 배열 맨 처음 정렬된 부분에 정렬되지 않은 다음 항목을 반복적으로 삽입하는 방식이다. 데이터 크기가 작고 리스트가 이미 정렬되어 있으면 병합 정렬이나 퀵 정렬 같은 고급 알고리즘보다 성능이 좋다. "
   ]
  },
  {
   "cell_type": "code",
   "execution_count": 8,
   "metadata": {},
   "outputs": [
    {
     "name": "stdout",
     "output_type": "stream",
     "text": [
      "[4, 5, 2, 1, 6, 2, 7, 10, 13, 8]\n",
      "[2, 4, 5, 1, 6, 2, 7, 10, 13, 8]\n",
      "[1, 2, 4, 5, 6, 2, 7, 10, 13, 8]\n",
      "[1, 2, 4, 5, 6, 2, 7, 10, 13, 8]\n",
      "[1, 2, 2, 4, 5, 6, 7, 10, 13, 8]\n",
      "[1, 2, 2, 4, 5, 6, 7, 10, 13, 8]\n",
      "[1, 2, 2, 4, 5, 6, 7, 10, 13, 8]\n",
      "[1, 2, 2, 4, 5, 6, 7, 10, 13, 8]\n",
      "[1, 2, 2, 4, 5, 6, 7, 8, 10, 13]\n",
      "True\n",
      "True\n"
     ]
    }
   ],
   "source": [
    "def insertion_sort(seq):\n",
    "    for i in range(1,len(seq)):\n",
    "        j = i\n",
    "        while j > 0 and seq[j-1] > seq[j]:\n",
    "            seq[j-1], seq[j] = seq[j], seq[j-1]\n",
    "            j -= 1\n",
    "        print(seq)\n",
    "    return seq\n",
    "\n",
    "def insertion_sort_rec(seq, i = None):\n",
    "    if i is None:\n",
    "        i = len(seq) - 1\n",
    "    if i == 0:\n",
    "        return i\n",
    "    insertion_sort_rec(seq,i-1)\n",
    "    j = i\n",
    "    while j > 0 and seq[j-1] > seq[j]:\n",
    "        seq[j-1], seq[j] = seq[j], seq[j-1]\n",
    "        j -= 1\n",
    "    return seq\n",
    "\n",
    "seq = [4,5,2,1,6,2,7,10,13,8]\n",
    "result1 = insertion_sort(seq)\n",
    "result2 = insertion_sort_rec(seq)\n",
    "seq.sort()\n",
    "print(result1 == seq)\n",
    "print(result2 == seq)"
   ]
  },
  {
   "cell_type": "markdown",
   "metadata": {},
   "source": [
    "## 9.1.4 놈 정렬\n",
    "놈 정렬은 앞으로 이동하여 잘못 정렬된 값을 찾은 후, 올바른 위치로 값을 교환하며 다시 뒤로 이동한다. 최선의 경우 O(n)이고 평균과 최악의 경우 O(n^2)인 정렬 알고리즘이다."
   ]
  },
  {
   "cell_type": "code",
   "execution_count": 10,
   "metadata": {},
   "outputs": [
    {
     "name": "stdout",
     "output_type": "stream",
     "text": [
      "[4, 5, 2, 1, 6, 2, 7, 10, 13, 8]\n",
      "[4, 5, 2, 1, 6, 2, 7, 10, 13, 8]\n",
      "[4, 2, 5, 1, 6, 2, 7, 10, 13, 8]\n",
      "[2, 4, 5, 1, 6, 2, 7, 10, 13, 8]\n",
      "[2, 4, 5, 1, 6, 2, 7, 10, 13, 8]\n",
      "[2, 4, 5, 1, 6, 2, 7, 10, 13, 8]\n",
      "[2, 4, 5, 1, 6, 2, 7, 10, 13, 8]\n",
      "[2, 4, 1, 5, 6, 2, 7, 10, 13, 8]\n",
      "[2, 1, 4, 5, 6, 2, 7, 10, 13, 8]\n",
      "[1, 2, 4, 5, 6, 2, 7, 10, 13, 8]\n",
      "[1, 2, 4, 5, 6, 2, 7, 10, 13, 8]\n",
      "[1, 2, 4, 5, 6, 2, 7, 10, 13, 8]\n",
      "[1, 2, 4, 5, 6, 2, 7, 10, 13, 8]\n",
      "[1, 2, 4, 5, 6, 2, 7, 10, 13, 8]\n",
      "[1, 2, 4, 5, 6, 2, 7, 10, 13, 8]\n",
      "[1, 2, 4, 5, 2, 6, 7, 10, 13, 8]\n",
      "[1, 2, 4, 2, 5, 6, 7, 10, 13, 8]\n",
      "[1, 2, 2, 4, 5, 6, 7, 10, 13, 8]\n",
      "[1, 2, 2, 4, 5, 6, 7, 10, 13, 8]\n",
      "[1, 2, 2, 4, 5, 6, 7, 10, 13, 8]\n",
      "[1, 2, 2, 4, 5, 6, 7, 10, 13, 8]\n",
      "[1, 2, 2, 4, 5, 6, 7, 10, 13, 8]\n",
      "[1, 2, 2, 4, 5, 6, 7, 10, 13, 8]\n",
      "[1, 2, 2, 4, 5, 6, 7, 10, 13, 8]\n",
      "[1, 2, 2, 4, 5, 6, 7, 10, 13, 8]\n",
      "[1, 2, 2, 4, 5, 6, 7, 10, 8, 13]\n",
      "[1, 2, 2, 4, 5, 6, 7, 8, 10, 13]\n",
      "[1, 2, 2, 4, 5, 6, 7, 8, 10, 13]\n",
      "[1, 2, 2, 4, 5, 6, 7, 8, 10, 13]\n",
      "[1, 2, 2, 4, 5, 6, 7, 8, 10, 13]\n",
      "True\n"
     ]
    }
   ],
   "source": [
    "def gnome_sort(seq):\n",
    "    i = 0\n",
    "    while i < len(seq):\n",
    "        if i == 0 or seq[i-1] <= seq[i]:\n",
    "            i += 1\n",
    "        else:\n",
    "            seq[i], seq[i-1] = seq[i-1], seq[i]\n",
    "            i -= 1\n",
    "        print(seq)\n",
    "    return seq\n",
    "\n",
    "seq = [4,5,2,1,6,2,7,10,13,8]\n",
    "result = gnome_sort(seq)\n",
    "seq.sort()\n",
    "print(result == seq)\n"
   ]
  },
  {
   "cell_type": "markdown",
   "metadata": {},
   "source": [
    "# 9.2 선형정렬"
   ]
  },
  {
   "cell_type": "markdown",
   "metadata": {},
   "source": [
    "## 9.2.1 카운트 정렬\n",
    "\n",
    "카운트 정렬은 작은 범위의 정수를 정렬할 때 유용하며, 숫자의 발생 횟수를 계산하는 누적 카운트를 사용한다. 누적 카운트를 갱신하여 순서대로 숫자를 직접 배치하는 방식이다. 각 숫자 간의 간격이 크다면, 로그 선형 제한이 걸리며 비효율적이게 된다. 간격이 크지 않다면 시간복잡도는 O(n+k)가 된다."
   ]
  },
  {
   "cell_type": "code",
   "execution_count": 20,
   "metadata": {},
   "outputs": [
    {
     "name": "stdout",
     "output_type": "stream",
     "text": [
      "defaultdict(<class 'list'>, {4: [4]})\n",
      "defaultdict(<class 'list'>, {4: [4], 5: [5]})\n",
      "defaultdict(<class 'list'>, {4: [4], 5: [5], 2: [2]})\n",
      "defaultdict(<class 'list'>, {4: [4], 5: [5], 2: [2], 1: [1]})\n",
      "defaultdict(<class 'list'>, {4: [4], 5: [5], 2: [2], 1: [1], 6: [6]})\n",
      "defaultdict(<class 'list'>, {4: [4], 5: [5], 2: [2, 2], 1: [1], 6: [6]})\n",
      "defaultdict(<class 'list'>, {4: [4], 5: [5], 2: [2, 2], 1: [1], 6: [6], 7: [7]})\n",
      "defaultdict(<class 'list'>, {4: [4], 5: [5], 2: [2, 2], 1: [1], 6: [6], 7: [7], 10: [10]})\n",
      "defaultdict(<class 'list'>, {4: [4], 5: [5], 2: [2, 2], 1: [1], 6: [6], 7: [7], 10: [10], 13: [13]})\n",
      "defaultdict(<class 'list'>, {4: [4], 5: [5], 2: [2, 2], 1: [1], 6: [6], 7: [7], 10: [10], 13: [13], 8: [8]})\n",
      "[1]\n",
      "[1, 2, 2]\n",
      "[1, 2, 2]\n",
      "[1, 2, 2, 4]\n",
      "[1, 2, 2, 4, 5]\n",
      "[1, 2, 2, 4, 5, 6]\n",
      "[1, 2, 2, 4, 5, 6, 7]\n",
      "[1, 2, 2, 4, 5, 6, 7, 8]\n",
      "[1, 2, 2, 4, 5, 6, 7, 8]\n",
      "[1, 2, 2, 4, 5, 6, 7, 8, 10]\n",
      "[1, 2, 2, 4, 5, 6, 7, 8, 10]\n",
      "[1, 2, 2, 4, 5, 6, 7, 8, 10]\n",
      "[1, 2, 2, 4, 5, 6, 7, 8, 10, 13]\n",
      "True\n"
     ]
    }
   ],
   "source": [
    "from collections import defaultdict\n",
    "\n",
    "def count_sort_dict(a):\n",
    "    b,c = [], defaultdict(list)\n",
    "    for x in a:\n",
    "        c[x].append(x)\n",
    "        print(c)\n",
    "    for k in range(min(c), max(c)+1):\n",
    "        b.extend(c[k])\n",
    "        print(b)\n",
    "    return b\n",
    "\n",
    "seq = [4,5,2,1,6,2,7,10,13,8]\n",
    "result = count_sort_dict(seq)\n",
    "seq.sort()\n",
    "print(result == seq)"
   ]
  },
  {
   "cell_type": "markdown",
   "metadata": {},
   "source": [
    "# 9.3 로그 선형 정렬"
   ]
  },
  {
   "cell_type": "markdown",
   "metadata": {},
   "source": [
    "## 9.3.1 sort()와 sorted()\n",
    "\n",
    "sort()는 원본 리스트를 정렬된 상태로 변환하는 기능을 가지고 있다. sorted()는 원본의 변경 없이 정렬된 새로운 리스트를 반환한다. 이들은 매우 효율적인 팀소트 알고리즘으로 구현되어 있다.\n",
    "\n",
    "sorted() 함수는 선택적 인수가 있어 다양한 활용이 가능하다. (reverse, key 등을 가지고 있다) "
   ]
  },
  {
   "cell_type": "markdown",
   "metadata": {},
   "source": [
    "## 9.3.2 병합 정렬\n",
    "병합 정렬은 리스틀 반으로 나누어 정렬되지 않은 리스트를 만들어서, 이 두 리스트의 크기가 1이 될 때까지 계속 리스트를 반으로 나누어 병합 정렬 알고리즘을 호출하여 리스트를 정렬하고 병합한다. 안정적이고 대규모 데이터에 대해서 속도가 빠르다. 배열은 제자리에서 정렬되지 않기 때문에 메모리가 많이 필요하고 공간복잡도는 O(n)이다. 연결 리스트의 경우 별도의 저장 공간이 필요하지 않아 제자리 정렬이 가능하고, 공간복잡도는 O(logn)이다. 병합 정렬은 어떤 경우에서든 시간복잡도는 O(n log n)이다.\n"
   ]
  },
  {
   "cell_type": "code",
   "execution_count": 23,
   "metadata": {},
   "outputs": [
    {
     "data": {
      "text/plain": [
       "[1, 2, 2, 3, 4, 4, 5, 5, 6, 7, 8]"
      ]
     },
     "execution_count": 23,
     "metadata": {},
     "output_type": "execute_result"
    }
   ],
   "source": [
    "# pop()을 이용해서 구현, 두 배열이 정렬되어 있는 경우 \n",
    "def merge(left, right):\n",
    "    if not left or not right:\n",
    "        return left or right # 아무것도 병합하지 않는다.\n",
    "    result = []\n",
    "    while left and right:\n",
    "        if left[-1] >= right[-1]:\n",
    "            result.append(left.pop())\n",
    "        else:\n",
    "            result.append(right.pop())\n",
    "    result.reverse()\n",
    "    return (left or right) + result\n",
    "\n",
    "l1 = [1,2,3,4,5,6,7]\n",
    "l2 = [2,4,5,8]\n",
    "merge(l1,l2)\n",
    "\n",
    "# 제자리 정렬을 구현하는 경우, 한 배열의 끝에 0이 채워져 있고 다른 배열에는 첫 배열에서 끝에 0이 채워진 크기만큼의 요소가 있다.\n",
    "# (두 배열이 정렬되어 있다)"
   ]
  },
  {
   "cell_type": "code",
   "execution_count": 27,
   "metadata": {},
   "outputs": [],
   "source": [
    "def merge_sort(seq):\n",
    "    # pop()을 이용한 정렬\n",
    "    if len(seq) < 2:\n",
    "        return seq\n",
    "    mid = len(seq) // 2\n",
    "    left, right = seq[:mid], seq[mid:]\n",
    "    if len(left) > 1:\n",
    "        left = merge_sort(left)\n",
    "    if len(right) > 1:\n",
    "        right = merge_sort(right)\n",
    "    \n",
    "    res = []\n",
    "    while left and right:\n",
    "        if left[-1] >= right[-1]:\n",
    "            res.append(left.pop())\n",
    "        else:\n",
    "            res.append(right.pop)\n",
    "    res.reverse()\n",
    "    return (left or right) + res\n",
    "\n",
    "def merge_sort_sep(seq):\n",
    "    # 두 함수로 나누어서 구현한다. 한 함수에서는 배열을 나누고, 또 다른 함수에서는 배열을 병합한다. \n",
    "    if len(seq) < 2:\n",
    "        return seq\n",
    "    mid = len(seq) // 2\n",
    "    left = merge.sort_sep(seq[:mid])\n",
    "    right = merge.sort_sep(seq[mid:])\n",
    "    return merge(left,right)\n",
    "\n",
    "def merge(left,right):\n",
    "    if not left or not right:\n",
    "        return left or right\n",
    "    result = []\n",
    "    i, j = 0, 0\n",
    "    while i < len(left) and j < len(right):\n",
    "        if left[i] <= right[j]:\n",
    "            result.append(left[i])\n",
    "            i += 1\n",
    "        else:\n",
    "            result.append(right[j])\n",
    "            j += 1\n",
    "    if left[i:]:\n",
    "        result.extend(left[i:])\n",
    "    if right[j:]:\n",
    "        result.extend(right[i:])\n",
    "    return result\n",
    "\n",
    "def merge_2n(left,right):\n",
    "    # 각 두 배열은 정렬된 상태다. 시간 복잡도는 O(2n)이다.\n",
    "    if not left or not right:\n",
    "        return left or right\n",
    "    result = []\n",
    "    while left and right:\n",
    "        if left[-1] >= right[:-1]:\n",
    "            result.append(left.pop())\n",
    "        else:\n",
    "            result.append(right.pop())\n",
    "    result.reverse()\n",
    "    return (left or right) + result\n",
    "\n",
    "def merge_two_arrays_inplace(l1,l2):\n",
    "    # 제자리 정렬로 구현\n",
    "    if not l1 or not l2:\n",
    "        return l1 or l2\n",
    "    p2 = len(l2) - 1\n",
    "    p1 = len(l1) -len(l2) - 1\n",
    "    p12 = len(l1) - 1\n",
    "    while p2 >= 0 and p1 >= 0:\n",
    "        item_to_be_merged = l2[p2]\n",
    "        item_bigger_array = l1[p1]\n",
    "        if item_to_be_merged < item_bigger_array:\n",
    "            l1[p12] = item_bigger_array\n",
    "            p1 -= 1\n",
    "        else:\n",
    "            l1[p12] = item_to_be_merged\n",
    "            p2 -= 1\n",
    "        p12 -= 1\n",
    "    return l1\n",
    "\n",
    "def merge_files(list_files):\n",
    "    # 파일 병합\n",
    "    result = []\n",
    "    final = []\n",
    "    for filename in list_files:\n",
    "        aux = []\n",
    "        with open(filename, 'r') as file:\n",
    "            for line in file:\n",
    "                aux.append(int(line))\n",
    "        result.append(aux)\n",
    "    final.extend(result.pop())\n",
    "    for l in result:\n",
    "        final = merge(l,final)\n",
    "    return final\n",
    "\n"
   ]
  },
  {
   "cell_type": "markdown",
   "metadata": {},
   "source": [
    "## 9.3.3 퀵 정렬\n",
    "퀵 정렬은 피벗 값을 잘 선택하는 것이 핵심이다. 리스트에서 기준이 되는 하나의 요소를 고르는 것을 피벗이라 한다. 피벗 앞에는 피벗보다 작은 값이 오고, 피벗 뒤에는 피벗보다 큰 값이 오도록 피벗을 기준으로 리스트를 두개로 나눈다. \n",
    "분할 과정에서 n-1 요소의 영역을 생성하는 경우 (피벗이 최솟값 또는 최댓값), 최악의 경우 시간복잡도는 O(n^2)이 된다. 최선의 경우는 두 개의 n/2 크기 리스트를 생성하게 되고, 이 최선의 경우와 평균 시간복잡도는 O(n log n)이다. "
   ]
  },
  {
   "cell_type": "code",
   "execution_count": 33,
   "metadata": {},
   "outputs": [
    {
     "name": "stdout",
     "output_type": "stream",
     "text": [
      "True\n",
      "True\n",
      "True\n"
     ]
    }
   ],
   "source": [
    "def quick_sort_cache(seq):\n",
    "    # 한 함수로 구현하는 경우\n",
    "    if len(seq) < 2:\n",
    "        return seq\n",
    "    ipivot = len(seq) // 2 # 피벗 인덱스 (캐시 사용)\n",
    "    pivot = seq[ipivot]\n",
    "    \n",
    "    before = [x for i, x in enumerate(seq) if x <= pivot and i != ipivot]\n",
    "    after = [x for i, x in enumerate(seq) if x > pivot and i != ipivot]\n",
    "    return quick_sort_cache(before) + [pivot] + quick_sort_cache(after)\n",
    "\n",
    "def partition_devided(seq):\n",
    "    # 1의 퀵 정렬을 두 함수로 나누어 구현한다. (캐시 사용)\n",
    "    pivot, seq = seq[0], seq[1:]\n",
    "    before = []\n",
    "    after = []\n",
    "    before = [x for x in seq if x <= pivot]\n",
    "    after = [x for x in seq if x > pivot]\n",
    "    return before, pivot, after\n",
    "\n",
    "def quick_sort_cache_devided(seq):\n",
    "    if len(seq) < 2:\n",
    "        return seq\n",
    "    before, pivot, after = partition_devided(seq)\n",
    "    return quick_sort_cache_devided(before) + [pivot] + quick_sort_cache_devided(after)\n",
    "\n",
    "def partition(seq, start, end):\n",
    "    # 두 함수로 나누어서 구현한다.(캐시 사용 x)\n",
    "    pivot = seq[start]\n",
    "    left = start + 1\n",
    "    right = end \n",
    "    done = False\n",
    "    while not done:\n",
    "        while left <= right and seq[left] <= pivot:\n",
    "            left += 1\n",
    "        while left <= right and pivot < seq[right]:\n",
    "            right -= 1\n",
    "        if right < left:\n",
    "            done = True\n",
    "        else:\n",
    "            seq[left], seq[right] = seq[right], seq[left]\n",
    "    seq[start], seq[right] = seq[right], seq[start]\n",
    "    return right\n",
    "\n",
    "def quick_sort(seq, start, end):\n",
    "    if start < end:\n",
    "        pivot = partition(seq, start, end)\n",
    "        quick_sort(seq, start, pivot -1)\n",
    "        quick_sort(seq,pivot +1 , end)\n",
    "    return seq\n",
    "\n",
    "seq = [3,5,2,6,8,1,0,3,5,6,2]\n",
    "a = quick_sort_cache(seq)\n",
    "b = quick_sort_cache_devided(seq)\n",
    "c = quick_sort(seq, 0 ,len(seq) - 1)\n",
    "print(sorted(seq) == a)\n",
    "print(sorted(seq) == b)\n",
    "print(sorted(seq) == c)"
   ]
  },
  {
   "cell_type": "markdown",
   "metadata": {},
   "source": [
    "## 9.3.4 힙 정렬\n",
    "힙 정렬은 정렬되지 않은 영역이 힙이라는 점을 제외하면 선택 정렬과 비슷하다. 힙 정렬은 가장 큰(또는 작은) 요소를 n번 찾을 때, 로그 선형의 시간복잡도를 가진다.\n",
    "\n",
    "힙에서 루트가 아닌 다른 모든 노드는 부모 노드의 값보다 작은(또는 큰) 값을 갖는다. 따라서 가장 작은(또는 가장 큰) 요소는 루트에 저장되고, 루트의 하위 트리에는 루트보다 더 큰(또는 작은) 값들이 포함된다. 힙의 삽입 시간복잡도는 O(1)이다. 힙 순서를 확인하는 데 드는 시간복잡도는 O(logn)이고, 힙을 순회하는 시간복잡도는 O(n)이다. "
   ]
  },
  {
   "cell_type": "code",
   "execution_count": 35,
   "metadata": {},
   "outputs": [
    {
     "name": "stdout",
     "output_type": "stream",
     "text": [
      "True\n"
     ]
    }
   ],
   "source": [
    "import heapq\n",
    "\n",
    "def heap_sort1(seq):\n",
    "    h = []\n",
    "    for value in seq:\n",
    "        heapq.heappush(h, value)\n",
    "    return [heapq.heappop(h) for i in range(len(h))]\n",
    "\n",
    "seq = [3,5,2,6,8,1,0,3,5,6,2]\n",
    "a = heap_sort1(seq)\n",
    "print(sorted(seq) == a)"
   ]
  },
  {
   "cell_type": "markdown",
   "metadata": {},
   "source": [
    "# 9.5 연습문제\n",
    "## 9.5.1 가장 큰 항목 k 찾기 "
   ]
  },
  {
   "cell_type": "code",
   "execution_count": 52,
   "metadata": {},
   "outputs": [
    {
     "name": "stdout",
     "output_type": "stream",
     "text": [
      "[9, 10, 11]\n"
     ]
    }
   ],
   "source": [
    "import random\n",
    "\n",
    "def swap(seq, x, y):\n",
    "    seq[x], seq[y] = seq[y], seq[x]\n",
    "    \n",
    "def quick_select(seq, k, left = None, right = None):\n",
    "    left = left or 0\n",
    "    right = right or len(seq) - 1\n",
    "    ipivot = random.randint(left,right)\n",
    "    pivot = seq[ipivot]\n",
    "    \n",
    "    # 피벗을 정렬 범위 밖으로 이동한다.\n",
    "    swap(seq, ipivot, right)\n",
    "    swapIndex, i = left, left\n",
    "    while i < right:\n",
    "        if seq[i] < pivot:\n",
    "            swap(seq, i, swapIndex)\n",
    "            swapIndex += 1\n",
    "        i += 1\n",
    "    # 피벗 위치를 확정한다.    \n",
    "    swap(seq, right, swapIndex)\n",
    "    \n",
    "    # 피벗 위치를 확인한다. \n",
    "    rank = len(seq) - swapIndex\n",
    "    if k == rank:\n",
    "        return seq[swapIndex]\n",
    "    elif k < rank:\n",
    "        return quick_select(seq, k , left = swapIndex + 1, right = right)\n",
    "    else:\n",
    "        return quick_select(seq, k , left = left, right = swapIndex -1 )\n",
    "    \n",
    "def find_k_largest_seq_quickselect(seq,k):\n",
    "    kth_largest = quick_select(seq, k)\n",
    "    result = []\n",
    "    for item in seq:\n",
    "        if item >= kth_largest:\n",
    "            result.append(item)\n",
    "    return result\n",
    "\n",
    "if __name__ == '__main__':\n",
    "    seq = [3,10,4,5,1,8,9,11,5]\n",
    "    k = 3\n",
    "    print(find_k_largest_seq_quickselect(seq,k))"
   ]
  },
  {
   "cell_type": "code",
   "execution_count": null,
   "metadata": {},
   "outputs": [],
   "source": []
  }
 ],
 "metadata": {
  "kernelspec": {
   "display_name": "Python 3",
   "language": "python",
   "name": "python3"
  },
  "language_info": {
   "codemirror_mode": {
    "name": "ipython",
    "version": 3
   },
   "file_extension": ".py",
   "mimetype": "text/x-python",
   "name": "python",
   "nbconvert_exporter": "python",
   "pygments_lexer": "ipython3",
   "version": "3.7.4"
  }
 },
 "nbformat": 4,
 "nbformat_minor": 2
}
