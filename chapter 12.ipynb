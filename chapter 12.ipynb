{
 "cells": [
  {
   "cell_type": "markdown",
   "metadata": {},
   "source": [
    "# Chapter 12. 그래프 기초"
   ]
  },
  {
   "cell_type": "markdown",
   "metadata": {},
   "source": [
    "## 12.1 용어\n",
    "\n",
    "그래프는 여러 노드들이 간선으로 연결된 추상 네트워크를 뜻한다. 즉 그래프는 노드와 간선의 집합으로 정의된다. 수식은 G = (V,E)다. V는 임의의 유한 집합이고, 간선 집합 E는 노드 쌍들의 집합이다. 예를 들면 V = [a,b,c,d]이면 E = [[a,b],[b,c],[c,d],[d,a]]로 생각하면 된다. \n",
    "\n",
    "\n",
    "### 12.1.1 그래프 방향\n",
    "\n",
    "그래프는 방향이 있는 유향과 방향이 없는 무향이 있다. 무향 그래프는 간선에 방향이 지정되어 있지 않다. 따라서 간선으로 연결된 노드는 서로 인접해 있고, 이웃이라고 한다.\n",
    "<br>\n",
    "유향 그래프의 경우 순서가 존재하기 때문에 말단 노드가 존재한다. (u,v)또는 (v,u)를 예로 들 수 있다(왼쪽에서 시작해서 오른쪽으로).\n",
    "\n",
    "### 12.1.2 부분 그래프\n",
    "\n",
    "부분 그래프는 그래프 G에서 집합 V와 E로 구성된 그래프의 일부다. \n",
    "<br>\n",
    "신장 부분 그래프는 원본 그래프의 모든 노드를 포함하는 부분 그래프를 말한다. \n",
    "\n",
    "### 12.1.3 완전 그래프\n",
    "\n",
    "완전 그래프는 그래프의 모든 노드가 서로 인접한 그래프를 말한다. \n",
    "\n",
    "### 12.1.4 차수\n",
    "\n",
    "한 노드에 이어져 있는 간선의 수를 차수라고 한다. 차수가 0인 노드는 고립되었다고 부른다. \n",
    "<br>\n",
    "유향 그래프의 경우 입력 차수와 출력 차수로 나눌 수 있다. 입력 차수는 한 노드로 들어오는 간선 수를 말하고, 출력 차수는 한 논드에서 나가는 간선 수를 말한다. \n",
    "\n",
    "### 12.1.5 경로, 보행, 순환\n",
    "\n",
    "그래프에서 경로는 간선이 어느 노드도 다시 방문하지 않고, 노드가 일렬로 연결된 부분 그래프다. 유향 그래프에서 경로는 간선의 방향을 따른다. \n",
    "<br>\n",
    "보행은 노드와 간선을 번갈아 가며 반복적으로 방문하는 노드와 간선이다. 경로는 노드와 간선이 모두 중복되지 않는 보행과 같다. \n",
    "<br>\n",
    "순환은 경로와 같지만 마지막에 연결된 간선의 노드가 다시 첫 번째 노드에 연결된다. \n",
    "\n",
    "### 12.1.6 경로 길이\n",
    "\n",
    "경로 또는 보행의 길이는 간선의 수와 동일하다. \n",
    "\n",
    "### 12.1.7 가중 그래프\n",
    "\n",
    "가중 그래프는 간선에 가중치가 있는 그래프다. 경로 또는 순환의 가중치는 해당하는 간선들의 가중치의 총합이다. 가중 그래프가 아닌 경우에는 경로와 순환의 가중치가 간선의 수와 같다. \n",
    "\n",
    "#### 평면 그래프\n",
    "\n",
    "평면 그래프는 간선을 서로 횡단하지 않고 평면에 그릴 수 있는 그래프다. 간선에 의해 경계면을 가지고, 연결된 평면 그래프는 오일러 공익에 따르면 V - E + F = 2이다(V: 노드 수, E: 간선 수, F: 면 수)\n",
    "\n",
    "#### 순회\n",
    "순회는 그래프에 연결된 모든 요소를 탐색하는 일을 말한다. 순회에서 중요한 것은 아직 방문하지 않은 노드의 순회 순서다.\n",
    "\n",
    "#### 강한 연결 요소\n",
    "무향 그래프는 모든 노드에서 다른 모든 노드로 가는 경로가 존재할 때 연결되어 있다고 한다. 유향 그래프도 마찬가지다.\n",
    "<br>\n",
    "연결 요소는 모든 노드가 연결된 최대 부분 그래프를 말한다. 연결 요소는 깊이 우선 탐색(DFS)과 너비 우선 탐색(BFS)같은 순회 알고리즘을 사용하여 찾을 수 있다. \n",
    "<br>\n",
    "유향 그래프에서 모든 노드에서 다른 모든 노드까지의 경로가 있으면, 강하게 연결되었다고 부른다. 강한 연결 요소는 강하게 연결된 최대 하위 그래프를 말한다.\n",
    "\n",
    "#### 트리와 포레스트\n",
    "포레스트는 순환이 없는 그래프다. 트리는 비순환적이고 연결되어 있는 유향 그래프다. 포레스트는 하나 이상의 트리로 구성되어 있다. 즉 서로 독립적인 트리의 모임이다. \n",
    "<br>\n",
    "트리에서 두 노드는 정확히 하나의 경로로 연결된다. 트리에 새로운 간선을 하나 추가하면 순환이 생기고, 어떤 간선을 제거하면 연결되 않은 요소가 생긴다. "
   ]
  },
  {
   "cell_type": "markdown",
   "metadata": {},
   "source": [
    "## 12.2 이웃 함수\n",
    "그래프의 이웃 함수 N(V)는 모든 이웃 V의 컨테이너(또는 반복 가능한 객체)다. 그래프의 이웃 함수로 가장 잘 알려진 자료구조는 인접 리스트와 인접 행렬이다.\n",
    "\n",
    "### 12.2.1 인접 리스트\n",
    "인접 리스트에서는 각 노드에서 이웃 리스트(셋 또는 컨테이너와 같은 반복 가능한 객체)에 접근할 수 있다. n개의 노드가 있을 때, 각 노드의 인접(또는 이웃) 리스트는 단순한 숫자 리스트다. 숫자로 노드에 접근 가능한(인덱싱 가능한) n개의 메인 리스트에 각 노드의 인접 리스트를 추가하면 된다. 인접 리스트의 추가 순서는 보통 임의적이다."
   ]
  },
  {
   "cell_type": "code",
   "execution_count": 3,
   "metadata": {},
   "outputs": [
    {
     "name": "stdout",
     "output_type": "stream",
     "text": [
      "True\n",
      "False\n",
      "4\n"
     ]
    }
   ],
   "source": [
    "# set으로 인접 리스트 구현\n",
    "a,b,c,d,e,f = range(6) # 6개의 노드\n",
    "N = [{b,c,d,f}, {a,d,f}, {a,b,d,e}, {a,e}, {a,b,c}, {b,c,d,e}]\n",
    "print(b in N[a]) # 멤버십 테스트\n",
    "print(b in N[b])\n",
    "print(len(N[f])) # 차수"
   ]
  },
  {
   "cell_type": "code",
   "execution_count": 8,
   "metadata": {},
   "outputs": [
    {
     "name": "stdout",
     "output_type": "stream",
     "text": [
      "True\n",
      "False\n",
      "4\n"
     ]
    }
   ],
   "source": [
    "# 리스트로 인접 리스트 구현\n",
    "# 모든 노드 V에서 N(V)를 효율적으로 순회할 수 있다. \n",
    "# 셋을 리스트로 바꾸면 멤버십 테스트의 시간 복잡도가 O(n)이 된다. \n",
    "# 알고리즘을 수행하는 어던 작업이 이웃 노드를 반복해서 접근하는 경우 리스트를 사용하는 게 좋다. \n",
    "# 그래프가 촘촘하면(간선이 많은 경우) 셋을 사용하는 게 더 좋다. \n",
    "\n",
    "a,b,c,d,e,f = range(6) \n",
    "N = [[b,c,d,f], [a,d,f], [a,b,d,e], [a,e], [a,b,c], [b,c,d,e]]\n",
    "print(b in N[a]) # 멤버십 테스트\n",
    "print(b in N[b])\n",
    "print(len(N[f])) # 차수"
   ]
  },
  {
   "cell_type": "code",
   "execution_count": 5,
   "metadata": {},
   "outputs": [
    {
     "name": "stdout",
     "output_type": "stream",
     "text": [
      "True\n",
      "False\n",
      "4\n"
     ]
    }
   ],
   "source": [
    "# 딕셔너리로 인접 리스트 구현\n",
    "# 노드가 키가 되고, 각 노드를 간선 가중치 등의 값으로 연결할 수 있다.\n",
    "\n",
    "a,b,c,d,e,f = range(6) # 6개의 노드\n",
    "N = [{b:2,c:1,d:4,f:1}, {a:4,d:1,f:4}, {a:1,b:1,d:2,e:4}, {a:3,e:2}, {a:3,b:4,c:1}, {b:1,c:2,d:4,e:3}]\n",
    "print(b in N[a]) # 멤버십 테스트\n",
    "print(b in N[b])\n",
    "print(len(N[f])) # 차수"
   ]
  },
  {
   "cell_type": "code",
   "execution_count": 11,
   "metadata": {},
   "outputs": [
    {
     "name": "stdout",
     "output_type": "stream",
     "text": [
      "True\n",
      "False\n",
      "4\n"
     ]
    }
   ],
   "source": [
    "# 딕셔너리를 인접 셋에 활용할 수 있음.\n",
    "\n",
    "a,b,c,d,e,f = range(6) # 6개의 노드\n",
    "N = {'a':set('bcdf'), 'b':set('adf'), 'c':set('abde'), 'd':set('ae'),'e':set('abc'), 'f':set('bcde')}\n",
    "print('b' in N['a']) # 멤버십 테스트\n",
    "print('b' in N['b'])\n",
    "print(len(N['f'])) # 차수"
   ]
  },
  {
   "cell_type": "code",
   "execution_count": 12,
   "metadata": {},
   "outputs": [
    {
     "data": {
      "text/plain": [
       "{'a': {'b', 'c', 'd', 'f'},\n",
       " 'b': {'a', 'd', 'f'},\n",
       " 'c': {'a', 'b', 'd', 'e'},\n",
       " 'd': {'a', 'e'},\n",
       " 'e': {'a', 'b', 'c'},\n",
       " 'f': {'b', 'c', 'd', 'e'}}"
      ]
     },
     "execution_count": 12,
     "metadata": {},
     "output_type": "execute_result"
    }
   ],
   "source": [
    "N"
   ]
  },
  {
   "cell_type": "markdown",
   "metadata": {},
   "source": [
    "### 12.2.1 인접 행렬\n",
    "인접 행렬은 각 노드의 모든 이웃에 대해 하나의 행을 갖는다. 각 행으 값은 1(True)과 0(False)로 이루어진다. 중첩 리스트로 구현할 수 있다. 행렬의 대각선은 항상 0이다. "
   ]
  },
  {
   "cell_type": "code",
   "execution_count": 13,
   "metadata": {},
   "outputs": [
    {
     "name": "stdout",
     "output_type": "stream",
     "text": [
      "1\n",
      "0\n",
      "4\n"
     ]
    }
   ],
   "source": [
    "a,b,c,d,e,f = range(6) # 6개의 노드\n",
    "N = [[0,1,1,1,0,1], [1,0,0,1,0,1], [1,1,0,1,1,0], [1,0,0,0,1,0], [1,1,1,0,0,0], [0,1,1,1,1,0]]\n",
    "print(N[a][b]) # 멤버십 테스트\n",
    "print(N[a][e])\n",
    "print(sum(N[f])) # 차수"
   ]
  },
  {
   "cell_type": "markdown",
   "metadata": {},
   "source": [
    "무향 그래프의 인접 행렬은 항상 대칭이다. 인접 행렬에 가중치를 추가하려면, 1과 0 값을 다른 숫자로 바꿔주면 된다. 존재하지 않는 간선은 float('inf), None, -1 혹은 매우 큰 값 등으로 처리해준다."
   ]
  },
  {
   "cell_type": "code",
   "execution_count": 17,
   "metadata": {},
   "outputs": [
    {
     "name": "stdout",
     "output_type": "stream",
     "text": [
      "2\n",
      "4\n"
     ]
    }
   ],
   "source": [
    "_ = float('inf')\n",
    "N = [[_,2,1,4,_,1], [4,_,_,1,_,4], [1,1,_,2,4,_],[3,_,_,_,2,_],\n",
    "    [3,4,1,_,_,_], [1,2,_,4,3,_]]\n",
    "print(N[a][b]) # 멤버십 테스트\n",
    "print(sum(1 for w in N[f] if w < _)) # 차수"
   ]
  },
  {
   "cell_type": "markdown",
   "metadata": {},
   "source": [
    "인접 행렬에서 간선을 찾는 시간복잡도는 O(1)이며, 어떤 노드의 이웃을 순회하는 시간복잡도는 O(n)이다. "
   ]
  },
  {
   "cell_type": "markdown",
   "metadata": {},
   "source": [
    "## 12.3 트리와의 연결점\n",
    "그래프에서 어떤 노드는 다른 노드에 의해 다중 참조될 수 있다. 하지만 트리에서는 각 노드는 최대 하나의 부모 노드에 의해서만 참조된다. 루트노드는 부모가 없는 노드를 말한다. 부모 노드를 참조하는 노드는 자식 노드다. \n",
    "\n",
    "### 12.3.1 트리 구현하기"
   ]
  },
  {
   "cell_type": "code",
   "execution_count": 19,
   "metadata": {},
   "outputs": [
    {
     "name": "stdout",
     "output_type": "stream",
     "text": [
      "a\n",
      "b\n",
      "d\n",
      "c\n",
      "g\n"
     ]
    }
   ],
   "source": [
    "T = ['a',['b',['d','f']], ['c',['e','g']]]\n",
    "print(T[0])\n",
    "print(T[1][0])\n",
    "print(T[1][1][0])\n",
    "print(T[2][0])\n",
    "print(T[2][1][1])"
   ]
  },
  {
   "cell_type": "markdown",
   "metadata": {},
   "source": [
    "두 개 이상의 가지를 추가하면 트리를 다루기 어려워진다. 따라서 트리를 클래스로 정의하는 것이 좋다."
   ]
  },
  {
   "cell_type": "code",
   "execution_count": 21,
   "metadata": {},
   "outputs": [
    {
     "name": "stdout",
     "output_type": "stream",
     "text": [
      "'a'\n",
      "\t'b'\n",
      "\t\t'd'\n",
      "\t\t'e'\n",
      "\t'c'\n",
      "\t\t'h'\n",
      "\t\t'g'\n",
      "\n"
     ]
    }
   ],
   "source": [
    "class SimpleTree(object):\n",
    "    def __init__(self, value = None, children = None):\n",
    "        self.value = value\n",
    "        self.children = children\n",
    "        if self.children is None:\n",
    "            self.children = []\n",
    "\n",
    "    def __repr__(self, level = 0):\n",
    "        ret = \"\\t\"*level + repr(self.value) + '\\n'\n",
    "        for child in self.children:\n",
    "            ret += child.__repr__(level + 1)\n",
    "        return ret\n",
    "    \n",
    "def main():\n",
    "    st = SimpleTree('a',[\n",
    "        SimpleTree('b',\n",
    "                  [\n",
    "                      SimpleTree('d'),\n",
    "                      SimpleTree('e')\n",
    "                  ]),\n",
    "        SimpleTree('c', [\n",
    "            SimpleTree('h'),\n",
    "            SimpleTree('g')\n",
    "        ])\n",
    "    ])\n",
    "    print(st)\n",
    "    \n",
    "if __name__ == '__main__':\n",
    "    main()"
   ]
  },
  {
   "cell_type": "code",
   "execution_count": 40,
   "metadata": {},
   "outputs": [
    {
     "name": "stdout",
     "output_type": "stream",
     "text": [
      "{'left': {'left': {'left': 'Buffy', 'right': 'Angel'}, 'right': {'left': 'Willow', 'right': 'Xander'}}}\n",
      "{'left': {'left': 'Buffy', 'right': 'Angel'}, 'right': {'left': 'Willow', 'right': 'Xander'}}\n"
     ]
    }
   ],
   "source": [
    "# 딕셔너리 클래스를 특수화\n",
    "class BunchClass(dict):\n",
    "    def __init__(self,*args,**kwds):\n",
    "        super(BunchClass,self).__init__(*args,**kwds) # super: 자식 클래스에서 부모클래스의 내용을 사용하고 싶을경우 사용\n",
    "        self.__dict__ = self\n",
    "        \n",
    "def main():\n",
    "    # 1. 딕셔너리 특수화\n",
    "    bc = BunchClass # ()가 없다.\n",
    "    tree = bc(left = bc(left =bc(left ='Buffy', right = 'Angel'),\n",
    "                        right = bc(left = 'Willow', right = 'Xander')))\n",
    "    print(tree)\n",
    "    # 2. 일반 딕셔너리\n",
    "    tree2 = dict(left = dict(left ='Buffy', right = 'Angel'),\n",
    "                       right = dict(left = 'Willow', right = 'Xander'))\n",
    "    print(tree2)\n",
    "    \n",
    "if __name__ == '__main__':\n",
    "    main()"
   ]
  },
  {
   "cell_type": "code",
   "execution_count": null,
   "metadata": {},
   "outputs": [],
   "source": []
  }
 ],
 "metadata": {
  "kernelspec": {
   "display_name": "Python 3",
   "language": "python",
   "name": "python3"
  },
  "language_info": {
   "codemirror_mode": {
    "name": "ipython",
    "version": 3
   },
   "file_extension": ".py",
   "mimetype": "text/x-python",
   "name": "python",
   "nbconvert_exporter": "python",
   "pygments_lexer": "ipython3",
   "version": "3.7.4"
  }
 },
 "nbformat": 4,
 "nbformat_minor": 2
}
